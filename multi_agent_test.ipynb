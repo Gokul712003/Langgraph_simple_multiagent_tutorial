{
 "cells": [
  {
   "cell_type": "code",
   "execution_count": 30,
   "metadata": {},
   "outputs": [
    {
     "data": {
      "text/plain": [
       "True"
      ]
     },
     "execution_count": 30,
     "metadata": {},
     "output_type": "execute_result"
    }
   ],
   "source": [
    "from dotenv import load_dotenv\n",
    "load_dotenv()"
   ]
  },
  {
   "cell_type": "code",
   "execution_count": 31,
   "metadata": {},
   "outputs": [],
   "source": [
    "from langgraph.types import Command,Literal\n",
    "from langchain_core.messages import HumanMessage,AIMessage,BaseMessage,ToolMessage\n",
    "from langgraph.graph import MessagesState,START,END,StateGraph\n",
    "from langchain_google_genai import ChatGoogleGenerativeAI\n",
    "from langchain_experimental.tools import PythonREPLTool\n",
    "from langgraph.prebuilt import create_react_agent\n",
    "from langchain_core.tools import tool\n",
    "from typing import Annotated\n",
    "from pprint import pprint\n",
    "from pydantic import BaseModel,Field"
   ]
  },
  {
   "cell_type": "code",
   "execution_count": 32,
   "metadata": {},
   "outputs": [],
   "source": [
    "llm= ChatGoogleGenerativeAI(model='gemini-2.0-flash', temperature=0.1)"
   ]
  },
  {
   "cell_type": "code",
   "execution_count": 33,
   "metadata": {},
   "outputs": [],
   "source": [
    "@tool\n",
    "def add(a: Annotated[float, \"the first number\"], b: Annotated[float, \"the second number\"]) -> float:\n",
    "    \"\"\"Adds two numbers together.\"\"\"\n",
    "    return a + b\n",
    "\n",
    "@tool \n",
    "def subtract(a: Annotated[float, \"the first number\"], b: Annotated[float, \"the second number\"]) -> float:\n",
    "    \"\"\"Subtracts the second number from the first.\"\"\"\n",
    "    return a - b\n",
    "\n",
    "@tool\n",
    "def multiply(a: Annotated[float, \"the first number\"], b: Annotated[float, \"the second number\"]) -> float:   \n",
    "    \"\"\"Multiplies two numbers together.\"\"\"\n",
    "    return a * b"
   ]
  },
  {
   "cell_type": "code",
   "execution_count": null,
   "metadata": {},
   "outputs": [],
   "source": [
    "add_agent = create_react_agent(model=llm,tools=[add],prompt=\"You are a helpful calculator. You can add numbers together.\")\n",
    "subtract_agent = create_react_agent(model=llm,tools=[subtract],prompt=\"You are a helpful calculator. You can subtract two numbers.\")\n",
    "multiply_agent = create_react_agent(model=llm,tools=[multiply],prompt=\"You are a helpful calculator. You can multiply numbers together.\")"
   ]
  },
  {
   "cell_type": "code",
   "execution_count": 56,
   "metadata": {},
   "outputs": [],
   "source": [
    "@tool\n",
    "def add_agent_tool(prompt: str):\n",
    "    \"\"\"Adds two numbers together.\"\"\"\n",
    "    response = add_agent.invoke({'messages': prompt})\n",
    "    return HumanMessage(content=response['messages'][-1].content)\n",
    "\n",
    "\n",
    "@tool\n",
    "def subtract_agent_tool(prompt: str):\n",
    "    \"\"\"Subtracts the second number from the first.\"\"\"\n",
    "    response = subtract_agent.invoke({'messages': prompt})\n",
    "    return HumanMessage(content=response['messages'][-1].content)\n",
    "\n",
    "@tool\n",
    "def multiply_agent_tool(prompt: str):\n",
    "    \"\"\"Multiplies two numbers together.\"\"\"\n",
    "    response = multiply_agent.invoke({'messages': prompt})\n",
    "    return HumanMessage(content=response['messages'][-1].content)"
   ]
  },
  {
   "cell_type": "code",
   "execution_count": 57,
   "metadata": {},
   "outputs": [],
   "source": [
    "supervisor_agent = create_react_agent(model=llm,tools=[add_agent_tool,subtract_agent_tool,multiply_agent_tool],prompt=\"You are a supervisor agent. You are assigned with add,multiply,subtract agents as tools,You need to send prompts or commmands as inputs to them inorder to make them work seamlessly\")"
   ]
  },
  {
   "cell_type": "code",
   "execution_count": 58,
   "metadata": {},
   "outputs": [],
   "source": [
    "response = supervisor_agent.invoke({'messages':'add 2 and 3 and multiply the result by 4 and subtract 5 from the result'})"
   ]
  },
  {
   "cell_type": "code",
   "execution_count": 59,
   "metadata": {},
   "outputs": [
    {
     "name": "stdout",
     "output_type": "stream",
     "text": [
      "================================\u001b[1m Human Message \u001b[0m=================================\n",
      "\n",
      "add 2 and 3 and multiply the result by 4 and subtract 5 from the result\n",
      "==================================\u001b[1m Ai Message \u001b[0m==================================\n",
      "Tool Calls:\n",
      "  add_agent_tool (80db0bfc-e869-4e70-b66d-c8d87b32241b)\n",
      " Call ID: 80db0bfc-e869-4e70-b66d-c8d87b32241b\n",
      "  Args:\n",
      "    prompt: add 2 and 3\n",
      "=================================\u001b[1m Tool Message \u001b[0m=================================\n",
      "Name: add_agent_tool\n",
      "\n",
      "content='2 + 3 = 5' additional_kwargs={} response_metadata={}\n",
      "==================================\u001b[1m Ai Message \u001b[0m==================================\n",
      "Tool Calls:\n",
      "  multiply_agent_tool (c469fba5-d0f6-4379-b024-beed2719aa70)\n",
      " Call ID: c469fba5-d0f6-4379-b024-beed2719aa70\n",
      "  Args:\n",
      "    prompt: multiply 5 and 4\n",
      "=================================\u001b[1m Tool Message \u001b[0m=================================\n",
      "Name: multiply_agent_tool\n",
      "\n",
      "content='The result of multiplying 5 and 4 is 20.' additional_kwargs={} response_metadata={}\n",
      "==================================\u001b[1m Ai Message \u001b[0m==================================\n",
      "Tool Calls:\n",
      "  subtract_agent_tool (c06671d6-3698-4c67-89eb-1f01613e2b38)\n",
      " Call ID: c06671d6-3698-4c67-89eb-1f01613e2b38\n",
      "  Args:\n",
      "    prompt: subtract 5 from 20\n",
      "=================================\u001b[1m Tool Message \u001b[0m=================================\n",
      "Name: subtract_agent_tool\n",
      "\n",
      "content='20 - 5 = 15' additional_kwargs={} response_metadata={}\n",
      "==================================\u001b[1m Ai Message \u001b[0m==================================\n",
      "\n",
      "2 + 3 = 5, 5 * 4 = 20, 20 - 5 = 15. The answer is 15.\n"
     ]
    }
   ],
   "source": [
    "for msg in response['messages']:\n",
    "    msg.pretty_print()"
   ]
  },
  {
   "cell_type": "code",
   "execution_count": 60,
   "metadata": {},
   "outputs": [],
   "source": [
    "def calculator_agent(state:MessagesState):\n",
    "    prompt = state['messages'][-1]\n",
    "    response = supervisor_agent.invoke({'messages':prompt})\n",
    "    state['messages'] = state['messages'] + response['messages']\n",
    "    return state"
   ]
  },
  {
   "cell_type": "code",
   "execution_count": 61,
   "metadata": {},
   "outputs": [
    {
     "data": {
      "text/plain": [
       "<langgraph.graph.state.StateGraph at 0x2b0746ea9c0>"
      ]
     },
     "execution_count": 61,
     "metadata": {},
     "output_type": "execute_result"
    }
   ],
   "source": [
    "graph_builder = StateGraph(MessagesState)\n",
    "\n",
    "graph_builder.add_node(\"Calculator\", calculator_agent)\n",
    "\n",
    "\n",
    "graph_builder.add_edge(START, \"Calculator\")\n",
    "graph_builder.add_edge(\"Calculator\", END)\n"
   ]
  },
  {
   "cell_type": "code",
   "execution_count": 62,
   "metadata": {},
   "outputs": [],
   "source": [
    "graph = graph_builder.compile()"
   ]
  },
  {
   "cell_type": "code",
   "execution_count": 63,
   "metadata": {},
   "outputs": [
    {
     "data": {
      "image/png": "[encoded data removed]",
      "text/plain": [
       "<langgraph.graph.state.CompiledStateGraph object at 0x000002B074A25610>"
      ]
     },
     "execution_count": 63,
     "metadata": {},
     "output_type": "execute_result"
    }
   ],
   "source": [
    "graph_builder.compile()"
   ]
  },
  {
   "cell_type": "code",
   "execution_count": 64,
   "metadata": {},
   "outputs": [
    {
     "name": "stdout",
     "output_type": "stream",
     "text": [
      "================================\u001b[1m Human Message \u001b[0m=================================\n",
      "\n",
      "add 2 and 3 and multiply the result by 4\n",
      "==================================\u001b[1m Ai Message \u001b[0m==================================\n",
      "Tool Calls:\n",
      "  add_agent_tool (54f84797-6e8e-456c-9986-c4b3dbd7e0ad)\n",
      " Call ID: 54f84797-6e8e-456c-9986-c4b3dbd7e0ad\n",
      "  Args:\n",
      "    prompt: add 2 and 3\n",
      "=================================\u001b[1m Tool Message \u001b[0m=================================\n",
      "Name: add_agent_tool\n",
      "\n",
      "content='2 + 3 = 5' additional_kwargs={} response_metadata={}\n",
      "==================================\u001b[1m Ai Message \u001b[0m==================================\n",
      "Tool Calls:\n",
      "  multiply_agent_tool (b9541ea7-5099-490c-8d55-041091eda905)\n",
      " Call ID: b9541ea7-5099-490c-8d55-041091eda905\n",
      "  Args:\n",
      "    prompt: multiply 5 and 4\n",
      "=================================\u001b[1m Tool Message \u001b[0m=================================\n",
      "Name: multiply_agent_tool\n",
      "\n",
      "content='The result of multiplying 5 and 4 is 20.' additional_kwargs={} response_metadata={}\n",
      "==================================\u001b[1m Ai Message \u001b[0m==================================\n",
      "\n",
      "The answer is 20.\n"
     ]
    }
   ],
   "source": [
    "response = graph.invoke({'messages':'add 2 and 3 and multiply the result by 4'})\n",
    "for msg in response['messages']:\n",
    "    msg.pretty_print()"
   ]
  },
  {
   "cell_type": "code",
   "execution_count": 65,
   "metadata": {},
   "outputs": [
    {
     "name": "stdout",
     "output_type": "stream",
     "text": [
      "================================\u001b[1m Human Message \u001b[0m=================================\n",
      "\n",
      "add 2 and 3 and multiply the result by 10 and multiply it by -10\n",
      "==================================\u001b[1m Ai Message \u001b[0m==================================\n",
      "Tool Calls:\n",
      "  add_agent_tool (82a4ed03-3e86-4a0f-93a3-212b876cb183)\n",
      " Call ID: 82a4ed03-3e86-4a0f-93a3-212b876cb183\n",
      "  Args:\n",
      "    prompt: add 2 and 3\n",
      "=================================\u001b[1m Tool Message \u001b[0m=================================\n",
      "Name: add_agent_tool\n",
      "\n",
      "content='2 + 3 = 5' additional_kwargs={} response_metadata={}\n",
      "==================================\u001b[1m Ai Message \u001b[0m==================================\n",
      "Tool Calls:\n",
      "  multiply_agent_tool (13c1a417-54ee-4a12-9cad-99b931c81988)\n",
      " Call ID: 13c1a417-54ee-4a12-9cad-99b931c81988\n",
      "  Args:\n",
      "    prompt: multiply 5 and 10\n",
      "=================================\u001b[1m Tool Message \u001b[0m=================================\n",
      "Name: multiply_agent_tool\n",
      "\n",
      "content='5 multiplied by 10 is 50.' additional_kwargs={} response_metadata={}\n",
      "==================================\u001b[1m Ai Message \u001b[0m==================================\n",
      "Tool Calls:\n",
      "  multiply_agent_tool (f727aecb-b90c-4e2e-998e-032fc7ae6334)\n",
      " Call ID: f727aecb-b90c-4e2e-998e-032fc7ae6334\n",
      "  Args:\n",
      "    prompt: multiply 50 and -10\n",
      "=================================\u001b[1m Tool Message \u001b[0m=================================\n",
      "Name: multiply_agent_tool\n",
      "\n",
      "content='The result of multiplying 50 and -10 is -500.' additional_kwargs={} response_metadata={}\n",
      "==================================\u001b[1m Ai Message \u001b[0m==================================\n",
      "\n",
      "-500\n"
     ]
    }
   ],
   "source": [
    "response = graph.invoke({'messages':'add 2 and 3 and multiply the result by 10 and multiply it by -10'})\n",
    "for msg in response['messages']:\n",
    "    msg.pretty_print()"
   ]
  },
  {
   "cell_type": "code",
   "execution_count": 66,
   "metadata": {},
   "outputs": [
    {
     "name": "stdout",
     "output_type": "stream",
     "text": [
      "================================\u001b[1m Human Message \u001b[0m=================================\n",
      "\n",
      "add 2 and 3 and subtract the result by 10 and multiply it by -10\n",
      "==================================\u001b[1m Ai Message \u001b[0m==================================\n",
      "Tool Calls:\n",
      "  add_agent_tool (f13d9b06-0411-4e11-bf64-6670005c187b)\n",
      " Call ID: f13d9b06-0411-4e11-bf64-6670005c187b\n",
      "  Args:\n",
      "    prompt: add 2 and 3\n",
      "=================================\u001b[1m Tool Message \u001b[0m=================================\n",
      "Name: add_agent_tool\n",
      "\n",
      "content='2 + 3 = 5' additional_kwargs={} response_metadata={}\n",
      "==================================\u001b[1m Ai Message \u001b[0m==================================\n",
      "Tool Calls:\n",
      "  subtract_agent_tool (b8f75347-71b3-4deb-989a-247d3214d856)\n",
      " Call ID: b8f75347-71b3-4deb-989a-247d3214d856\n",
      "  Args:\n",
      "    prompt: subtract 10 from 5\n",
      "=================================\u001b[1m Tool Message \u001b[0m=================================\n",
      "Name: subtract_agent_tool\n",
      "\n",
      "content='5 - 10 = -5' additional_kwargs={} response_metadata={}\n",
      "==================================\u001b[1m Ai Message \u001b[0m==================================\n",
      "Tool Calls:\n",
      "  multiply_agent_tool (7e334ffd-565b-4379-a093-a880e4ec1c75)\n",
      " Call ID: 7e334ffd-565b-4379-a093-a880e4ec1c75\n",
      "  Args:\n",
      "    prompt: multiply -5 and -10\n",
      "=================================\u001b[1m Tool Message \u001b[0m=================================\n",
      "Name: multiply_agent_tool\n",
      "\n",
      "content='The answer is 50.' additional_kwargs={} response_metadata={}\n",
      "==================================\u001b[1m Ai Message \u001b[0m==================================\n",
      "\n",
      "The answer is 50.\n"
     ]
    }
   ],
   "source": [
    "response = graph.invoke({'messages':'add 2 and 3 and subtract the result by 10 and multiply it by -10'})\n",
    "for msg in response['messages']:\n",
    "    msg.pretty_print()"
   ]
  },
  {
   "cell_type": "code",
   "execution_count": null,
   "metadata": {},
   "outputs": [],
   "source": []
  }
 ],
 "metadata": {
  "kernelspec": {
   "display_name": "pydantic",
   "language": "python",
   "name": "python3"
  },
  "language_info": {
   "codemirror_mode": {
    "name": "ipython",
    "version": 3
   },
   "file_extension": ".py",
   "mimetype": "text/x-python",
   "name": "python",
   "nbconvert_exporter": "python",
   "pygments_lexer": "ipython3",
   "version": "3.12.9"
  }
 },
 "nbformat": 4,
 "nbformat_minor": 2
}
