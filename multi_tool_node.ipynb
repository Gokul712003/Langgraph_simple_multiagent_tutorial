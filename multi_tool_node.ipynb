{
 "cells": [
  {
   "cell_type": "code",
   "execution_count": 62,
   "metadata": {},
   "outputs": [
    {
     "data": {
      "text/plain": [
       "True"
      ]
     },
     "execution_count": 62,
     "metadata": {},
     "output_type": "execute_result"
    }
   ],
   "source": [
    "from dotenv import load_dotenv\n",
    "load_dotenv()"
   ]
  },
  {
   "cell_type": "code",
   "execution_count": 63,
   "metadata": {},
   "outputs": [],
   "source": [
    "from langgraph.types import Command,Literal\n",
    "from langchain_core.messages import HumanMessage,AIMessage,BaseMessage,ToolMessage,SystemMessage\n",
    "from langgraph.graph import MessagesState,START,END,StateGraph,add_messages\n",
    "from langgraph.prebuilt import ToolNode\n",
    "from langchain_google_genai import ChatGoogleGenerativeAI\n",
    "from langchain_experimental.tools import PythonREPLTool\n",
    "from langgraph.prebuilt import create_react_agent\n",
    "from langchain_core.tools import tool\n",
    "from typing import Annotated,List,Literal\n",
    "from typing_extensions import TypedDict\n",
    "from pprint import pprint\n",
    "from pydantic import BaseModel,Field\n",
    "import asyncio\n",
    "import os"
   ]
  },
  {
   "cell_type": "code",
   "execution_count": 64,
   "metadata": {},
   "outputs": [],
   "source": [
    "llm= ChatGoogleGenerativeAI(model='gemini-2.0-flash', temperature=0.1)"
   ]
  },
  {
   "cell_type": "code",
   "execution_count": 65,
   "metadata": {},
   "outputs": [],
   "source": [
    "@tool\n",
    "def add_worker(a: Annotated[float, \"the first number\"], b: Annotated[float, \"the second number\"]) -> float:\n",
    "    \"\"\"Adds two numbers together.\"\"\"\n",
    "    return a+b\n",
    "\n",
    "@tool\n",
    "def subtract_worker(a: Annotated[float, \"the first number\"], b: Annotated[float, \"the second number\"]) -> float:\n",
    "    \"\"\"Subtracts the second number from the first.\"\"\"\n",
    "    return a-b\n",
    "\n",
    "@tool\n",
    "def multiply_worker(a: Annotated[float, \"the first number\"], b: Annotated[float, \"the second number\"]) -> float:\n",
    "    \"\"\"Multiplies two numbers together.\"\"\"\n",
    "    return a*b"
   ]
  },
  {
   "cell_type": "code",
   "execution_count": 66,
   "metadata": {},
   "outputs": [],
   "source": [
    "llm_with_tools = llm.bind_tools([add_worker, subtract_worker, multiply_worker])"
   ]
  },
  {
   "cell_type": "code",
   "execution_count": 67,
   "metadata": {},
   "outputs": [],
   "source": [
    "\n",
    "class State(TypedDict):\n",
    "    messages: Annotated[list, add_messages]"
   ]
  },
  {
   "cell_type": "code",
   "execution_count": 68,
   "metadata": {},
   "outputs": [],
   "source": [
    "tool_node = ToolNode(tools=[add_worker, subtract_worker, multiply_worker])"
   ]
  },
  {
   "cell_type": "code",
   "execution_count": 69,
   "metadata": {},
   "outputs": [],
   "source": [
    "from typing import Literal\n",
    "\n",
    "# Define the function that determines whether to continue or not\n",
    "def should_continue(state: State) -> Literal[\"end\", \"continue\"]:\n",
    "    messages = state[\"messages\"]\n",
    "    last_message = messages[-1]\n",
    "    # If there is no tool call, then we finish\n",
    "    if not last_message.tool_calls:\n",
    "        return \"end\"\n",
    "    # Otherwise if there is, we continue\n",
    "    else:\n",
    "        return \"continue\""
   ]
  },
  {
   "cell_type": "code",
   "execution_count": 70,
   "metadata": {},
   "outputs": [],
   "source": [
    "async def model(state: State):\n",
    "    messages = state[\"messages\"]\n",
    "    response = await llm_with_tools.ainvoke(messages)\n",
    "    # We return a list, because this will get added to the existing list\n",
    "    return {\"messages\": [response]}"
   ]
  },
  {
   "cell_type": "code",
   "execution_count": 71,
   "metadata": {},
   "outputs": [
    {
     "data": {
      "text/plain": [
       "<langgraph.graph.state.StateGraph at 0x242215be330>"
      ]
     },
     "execution_count": 71,
     "metadata": {},
     "output_type": "execute_result"
    }
   ],
   "source": [
    "graph_builder = StateGraph(State)\n",
    "\n",
    "graph_builder.add_node(\"supervisor\", model)\n",
    "graph_builder.add_node(\"calculator\", tool_node)\n",
    "\n",
    "\n",
    "graph_builder.add_edge(START, \"supervisor\")\n",
    "\n",
    "graph_builder.add_conditional_edges(\"supervisor\",should_continue,{\n",
    "    'end':END,\n",
    "    'continue':\"calculator\"\n",
    "})                                  \n",
    "\n",
    "graph_builder.add_edge(\"calculator\", \"supervisor\")"
   ]
  },
  {
   "cell_type": "code",
   "execution_count": 72,
   "metadata": {},
   "outputs": [
    {
     "data": {
      "image/png": "[encoded data removed]",
      "text/plain": [
       "<langgraph.graph.state.CompiledStateGraph object at 0x00000242215BE4B0>"
      ]
     },
     "execution_count": 72,
     "metadata": {},
     "output_type": "execute_result"
    }
   ],
   "source": [
    "graph_builder.compile()"
   ]
  },
  {
   "cell_type": "code",
   "execution_count": 73,
   "metadata": {},
   "outputs": [],
   "source": [
    "graph = graph_builder.compile()"
   ]
  },
  {
   "cell_type": "code",
   "execution_count": 74,
   "metadata": {},
   "outputs": [
    {
     "data": {
      "text/plain": [
       "{'messages': [HumanMessage(content='what is 2+2? and 5*5? and 10-3?', additional_kwargs={}, response_metadata={}, id='80525f37-c499-4101-bafc-968f09062c3e'),\n",
       "  AIMessage(content='', additional_kwargs={'function_call': {'name': 'subtract_worker', 'arguments': '{\"a\": 10.0, \"b\": 3.0}'}}, response_metadata={'prompt_feedback': {'block_reason': 0, 'safety_ratings': []}, 'finish_reason': 'STOP', 'safety_ratings': []}, id='run-8b2fe62e-a2fc-4b58-a00a-719fadcc536c-0', tool_calls=[{'name': 'add_worker', 'args': {'a': 2.0, 'b': 2.0}, 'id': '9b67cace-09b3-4df2-a7c5-b8b3605882da', 'type': 'tool_call'}, {'name': 'multiply_worker', 'args': {'a': 5.0, 'b': 5.0}, 'id': 'd8af6aa5-677c-412e-b96b-57b4dc637634', 'type': 'tool_call'}, {'name': 'subtract_worker', 'args': {'a': 10.0, 'b': 3.0}, 'id': 'af461d87-2cbf-45bf-8415-9ede7dab4ff6', 'type': 'tool_call'}], usage_metadata={'input_tokens': 80, 'output_tokens': 15, 'total_tokens': 95, 'input_token_details': {'cache_read': 0}}),\n",
       "  ToolMessage(content='4.0', name='add_worker', id='6e25315a-32ea-49e3-a12a-d51c0e46a4b5', tool_call_id='9b67cace-09b3-4df2-a7c5-b8b3605882da'),\n",
       "  ToolMessage(content='25.0', name='multiply_worker', id='9e3b5901-fcad-4ec4-a40a-72e383b217af', tool_call_id='d8af6aa5-677c-412e-b96b-57b4dc637634'),\n",
       "  ToolMessage(content='7.0', name='subtract_worker', id='66c17d2d-57c3-4b14-82f3-e466b6a4919b', tool_call_id='af461d87-2cbf-45bf-8415-9ede7dab4ff6'),\n",
       "  AIMessage(content='2+2 is 4, 5*5 is 25, and 10-3 is 7.', additional_kwargs={}, response_metadata={'prompt_feedback': {'block_reason': 0, 'safety_ratings': []}, 'finish_reason': 'STOP', 'safety_ratings': []}, id='run-07854698-3026-4bdc-b10f-26a96e24a184-0', usage_metadata={'input_tokens': 107, 'output_tokens': 27, 'total_tokens': 134, 'input_token_details': {'cache_read': 0}})]}"
      ]
     },
     "execution_count": 74,
     "metadata": {},
     "output_type": "execute_result"
    }
   ],
   "source": [
    "\n",
    "input = {\"messages\": [HumanMessage(content=\"what is 2+2? and 5*5? and 10-3?\")]}\n",
    "\n",
    "\n",
    "await graph.ainvoke(input)"
   ]
  },
  {
   "cell_type": "code",
   "execution_count": 75,
   "metadata": {},
   "outputs": [],
   "source": [
    "input_2 = {\"messages\": [HumanMessage(content=\"what is 1000000+1141351 and 5325125*54? and 1012515135125-31352515?\")]}\n"
   ]
  },
  {
   "cell_type": "code",
   "execution_count": 76,
   "metadata": {},
   "outputs": [],
   "source": [
    "response = await graph.ainvoke(input_2)"
   ]
  },
  {
   "cell_type": "code",
   "execution_count": 77,
   "metadata": {},
   "outputs": [
    {
     "name": "stdout",
     "output_type": "stream",
     "text": [
      "================================\u001b[1m Human Message \u001b[0m=================================\n",
      "\n",
      "what is 1000000+1141351 and 5325125*54? and 1012515135125-31352515?\n",
      "==================================\u001b[1m Ai Message \u001b[0m==================================\n",
      "Tool Calls:\n",
      "  add_worker (cb784f68-feeb-46b5-a10a-21a14e3cb87e)\n",
      " Call ID: cb784f68-feeb-46b5-a10a-21a14e3cb87e\n",
      "  Args:\n",
      "    a: 1000000.0\n",
      "    b: 1141351.0\n",
      "  multiply_worker (99f3a016-a452-42ca-8bf3-a5584d273d9f)\n",
      " Call ID: 99f3a016-a452-42ca-8bf3-a5584d273d9f\n",
      "  Args:\n",
      "    a: 5325125.0\n",
      "    b: 54.0\n",
      "  subtract_worker (6896c8b0-0ac7-4fff-af88-fa0cf932d068)\n",
      " Call ID: 6896c8b0-0ac7-4fff-af88-fa0cf932d068\n",
      "  Args:\n",
      "    a: 1012515135125.0\n",
      "    b: 31352515.0\n",
      "=================================\u001b[1m Tool Message \u001b[0m=================================\n",
      "Name: add_worker\n",
      "\n",
      "2141351.0\n",
      "=================================\u001b[1m Tool Message \u001b[0m=================================\n",
      "Name: multiply_worker\n",
      "\n",
      "287556750.0\n",
      "=================================\u001b[1m Tool Message \u001b[0m=================================\n",
      "Name: subtract_worker\n",
      "\n",
      "1012483782610.0\n",
      "==================================\u001b[1m Ai Message \u001b[0m==================================\n",
      "\n",
      "2141351, 287556750, and 1012483782610\n"
     ]
    }
   ],
   "source": [
    "for msg in response['messages']:\n",
    "    msg.pretty_print()"
   ]
  },
  {
   "cell_type": "code",
   "execution_count": null,
   "metadata": {},
   "outputs": [],
   "source": []
  }
 ],
 "metadata": {
  "kernelspec": {
   "display_name": "pydantic",
   "language": "python",
   "name": "python3"
  },
  "language_info": {
   "codemirror_mode": {
    "name": "ipython",
    "version": 3
   },
   "file_extension": ".py",
   "mimetype": "text/x-python",
   "name": "python",
   "nbconvert_exporter": "python",
   "pygments_lexer": "ipython3",
   "version": "3.12.9"
  }
 },
 "nbformat": 4,
 "nbformat_minor": 2
}
